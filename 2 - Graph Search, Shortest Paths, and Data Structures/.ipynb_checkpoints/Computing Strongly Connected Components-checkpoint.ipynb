{
 "cells": [
  {
   "cell_type": "code",
   "execution_count": 65,
   "metadata": {},
   "outputs": [],
   "source": [
    "import os\n",
    "import sys\n",
    "import time\n",
    "import collections\n",
    "import numpy as np\n",
    "sys.setrecursionlimit(500000)"
   ]
  },
  {
   "cell_type": "code",
   "execution_count": 67,
   "metadata": {},
   "outputs": [
    {
     "name": "stdout",
     "output_type": "stream",
     "text": [
      "CPU times: user 185 ms, sys: 6.47 ms, total: 192 ms\n",
      "Wall time: 190 ms\n"
     ]
    }
   ],
   "source": [
    "%%time\n",
    "N = 12800\n",
    "file_directory = os.path.join(os.getcwd(), 'test.txt')\n",
    "data = np.loadtxt(file_directory, dtype='uint32')"
   ]
  },
  {
   "cell_type": "code",
   "execution_count": 68,
   "metadata": {},
   "outputs": [
    {
     "name": "stdout",
     "output_type": "stream",
     "text": [
      "(19180, 2)\n"
     ]
    },
    {
     "data": {
      "text/plain": [
       "array([[    1,   363],\n",
       "       [    1,   542],\n",
       "       [    1, 12102],\n",
       "       [    2,  2107],\n",
       "       [    3,  2391]], dtype=uint32)"
      ]
     },
     "execution_count": 68,
     "metadata": {},
     "output_type": "execute_result"
    }
   ],
   "source": [
    "print(data.shape)\n",
    "data[0:5]"
   ]
  },
  {
   "cell_type": "code",
   "execution_count": 69,
   "metadata": {},
   "outputs": [
    {
     "name": "stdout",
     "output_type": "stream",
     "text": [
      "12800\n",
      "CPU times: user 26.8 ms, sys: 1.55 ms, total: 28.4 ms\n",
      "Wall time: 27.4 ms\n"
     ]
    }
   ],
   "source": [
    "%%time\n",
    "adjacency_list_indexed = []\n",
    "# index the adjacency list\n",
    "for i in range(N):\n",
    "    adjacency_list_indexed.append(np.array([i]))\n",
    "    \n",
    "print(len(adjacency_list_indexed))\n",
    "# print(adjacency_list_indexed[0:5])"
   ]
  },
  {
   "cell_type": "code",
   "execution_count": 70,
   "metadata": {},
   "outputs": [
    {
     "name": "stdout",
     "output_type": "stream",
     "text": [
      "CPU times: user 421 ms, sys: 15.1 ms, total: 436 ms\n",
      "Wall time: 425 ms\n"
     ]
    }
   ],
   "source": [
    "%%time\n",
    "for row in data:\n",
    "    adjacency_list_indexed[row[0]-1] = np.append(adjacency_list_indexed[row[0]-1], row[1])"
   ]
  },
  {
   "cell_type": "code",
   "execution_count": 71,
   "metadata": {},
   "outputs": [
    {
     "data": {
      "text/plain": [
       "[array([    0,   363,   542, 12102]),\n",
       " array([   1, 2107]),\n",
       " array([   2, 2391]),\n",
       " array([   3, 3430, 8489, 9207]),\n",
       " array([   4,  438, 4047, 7379, 8426, 8546, 9186]),\n",
       " array([   5, 6489]),\n",
       " array([   6, 8963]),\n",
       " array([    7, 12411]),\n",
       " array([    8,  6870,  8942,  9769, 12181, 12499]),\n",
       " array([    9, 10940])]"
      ]
     },
     "execution_count": 71,
     "metadata": {},
     "output_type": "execute_result"
    }
   ],
   "source": [
    "adjacency_list_indexed[0:10]"
   ]
  },
  {
   "cell_type": "code",
   "execution_count": 72,
   "metadata": {},
   "outputs": [
    {
     "name": "stdout",
     "output_type": "stream",
     "text": [
      "CPU times: user 182 ms, sys: 6.57 ms, total: 188 ms\n",
      "Wall time: 184 ms\n"
     ]
    }
   ],
   "source": [
    "%%time\n",
    "adjacency_list = []\n",
    "# remove indices\n",
    "for i in range(N):\n",
    "    adjacency_list.append(np.delete(adjacency_list_indexed[i], 0, axis=0))"
   ]
  },
  {
   "cell_type": "code",
   "execution_count": 73,
   "metadata": {},
   "outputs": [
    {
     "name": "stdout",
     "output_type": "stream",
     "text": [
      "adjacency_list memory cost: 0.11 MB\n"
     ]
    },
    {
     "data": {
      "text/plain": [
       "[array([  363,   542, 12102]),\n",
       " array([2107]),\n",
       " array([2391]),\n",
       " array([3430, 8489, 9207]),\n",
       " array([ 438, 4047, 7379, 8426, 8546, 9186]),\n",
       " array([6489]),\n",
       " array([8963]),\n",
       " array([12411]),\n",
       " array([ 6870,  8942,  9769, 12181, 12499]),\n",
       " array([10940])]"
      ]
     },
     "execution_count": 73,
     "metadata": {},
     "output_type": "execute_result"
    }
   ],
   "source": [
    "print('adjacency_list memory cost:', round(sys.getsizeof(adjacency_list)/1024/1024, 2), 'MB')\n",
    "adjacency_list[0:10]"
   ]
  },
  {
   "cell_type": "code",
   "execution_count": 74,
   "metadata": {},
   "outputs": [
    {
     "name": "stdout",
     "output_type": "stream",
     "text": [
      "12800\n",
      "[array([0]), array([1]), array([2]), array([3]), array([4])]\n",
      "CPU times: user 27.9 ms, sys: 3.36 ms, total: 31.3 ms\n",
      "Wall time: 29.1 ms\n"
     ]
    }
   ],
   "source": [
    "%%time\n",
    "adjacency_list_indexed_reversed = []\n",
    "# index the adjacency list\n",
    "for i in range(N):\n",
    "    adjacency_list_indexed_reversed.append(np.array([i]))\n",
    "    \n",
    "print(len(adjacency_list_indexed_reversed))\n",
    "print(adjacency_list_indexed_reversed[0:5])"
   ]
  },
  {
   "cell_type": "code",
   "execution_count": 75,
   "metadata": {},
   "outputs": [
    {
     "name": "stdout",
     "output_type": "stream",
     "text": [
      "CPU times: user 435 ms, sys: 44 ms, total: 479 ms\n",
      "Wall time: 442 ms\n"
     ]
    }
   ],
   "source": [
    "%%time\n",
    "for row in data:\n",
    "    adjacency_list_indexed_reversed[row[1]-1] = np.append(adjacency_list_indexed_reversed[row[1]-1], row[0])"
   ]
  },
  {
   "cell_type": "code",
   "execution_count": 76,
   "metadata": {},
   "outputs": [
    {
     "data": {
      "text/plain": [
       "[array([   0, 7022, 8056]),\n",
       " array([   1, 6004]),\n",
       " array([    2, 10567]),\n",
       " array([   3, 2094]),\n",
       " array([    4,  1980, 12395]),\n",
       " array([    5, 12356, 12612]),\n",
       " array([   6, 1943, 2384, 3787, 4986]),\n",
       " array([   7, 2584]),\n",
       " array([   8, 2810]),\n",
       " array([   9, 6139, 6182])]"
      ]
     },
     "execution_count": 76,
     "metadata": {},
     "output_type": "execute_result"
    }
   ],
   "source": [
    "adjacency_list_indexed_reversed[0:10]"
   ]
  },
  {
   "cell_type": "code",
   "execution_count": 77,
   "metadata": {},
   "outputs": [
    {
     "name": "stdout",
     "output_type": "stream",
     "text": [
      "CPU times: user 176 ms, sys: 3.75 ms, total: 180 ms\n",
      "Wall time: 178 ms\n"
     ]
    }
   ],
   "source": [
    "%%time\n",
    "adjacency_list_reversed = []\n",
    "# remove indices\n",
    "for i in range(N):\n",
    "    adjacency_list_reversed.append(np.delete(adjacency_list_indexed_reversed[i], 0, axis=0))"
   ]
  },
  {
   "cell_type": "code",
   "execution_count": 78,
   "metadata": {},
   "outputs": [
    {
     "name": "stdout",
     "output_type": "stream",
     "text": [
      "adjacency_list_reversed memory cost: 0.11 MB\n"
     ]
    },
    {
     "data": {
      "text/plain": [
       "[array([7022, 8056]),\n",
       " array([6004]),\n",
       " array([10567]),\n",
       " array([2094]),\n",
       " array([ 1980, 12395]),\n",
       " array([12356, 12612]),\n",
       " array([1943, 2384, 3787, 4986]),\n",
       " array([2584]),\n",
       " array([2810]),\n",
       " array([6139, 6182])]"
      ]
     },
     "execution_count": 78,
     "metadata": {},
     "output_type": "execute_result"
    }
   ],
   "source": [
    "print('adjacency_list_reversed memory cost:', round(sys.getsizeof(adjacency_list_reversed)/1024/1024, 2), 'MB')\n",
    "adjacency_list_reversed[0:10]"
   ]
  },
  {
   "cell_type": "code",
   "execution_count": 79,
   "metadata": {},
   "outputs": [],
   "source": [
    "node_marks = np.zeros((N,), dtype='uint32')\n",
    "node_orders = np.zeros((N,), dtype='uint32')\n",
    "node_leaders = np.zeros((N,), dtype='uint32')"
   ]
  },
  {
   "cell_type": "code",
   "execution_count": 80,
   "metadata": {},
   "outputs": [],
   "source": [
    "# number of nodes processed so far\n",
    "t = 0\n",
    "# current source vertex from which dfs is initiated\n",
    "s = None\n",
    "\n",
    "def dfs_loop(graph):\n",
    "    '''\n",
    "    graph : adjacency list\n",
    "    '''\n",
    "    for i in np.arange(N, 0, -1):\n",
    "        # if node i is not yet explored\n",
    "        if node_marks[i-1] == 0:\n",
    "            global s\n",
    "            s = i\n",
    "            dfs(graph, i)\n",
    "\n",
    "def dfs(graph, i):\n",
    "    '''\n",
    "    graph : adjacency list\n",
    "    i : node index\n",
    "    '''\n",
    "    # mark node i as explored\n",
    "    node_marks[i-1] = 1\n",
    "    # mark node i's leader as s\n",
    "    global s\n",
    "    node_leaders[i-1] = s\n",
    "    \n",
    "    if len(graph[i-1]) != 0:\n",
    "        # iterate each arc ij in graph\n",
    "        for j in graph[i-1]:\n",
    "            # if node j is not yet explored\n",
    "            if node_marks[j-1] == 0:\n",
    "                dfs(graph, j)\n",
    "    global t\n",
    "    t += 1\n",
    "    node_orders[i-1] = t"
   ]
  },
  {
   "cell_type": "code",
   "execution_count": 81,
   "metadata": {},
   "outputs": [
    {
     "name": "stdout",
     "output_type": "stream",
     "text": [
      "CPU times: user 160 ms, sys: 3.04 ms, total: 163 ms\n",
      "Wall time: 161 ms\n"
     ]
    }
   ],
   "source": [
    "%%time\n",
    "dfs_loop(adjacency_list_reversed)"
   ]
  },
  {
   "cell_type": "code",
   "execution_count": 82,
   "metadata": {
    "scrolled": true
   },
   "outputs": [],
   "source": [
    "# for i, j in enumerate(node_orders):\n",
    "#     print(i+1, j)"
   ]
  },
  {
   "cell_type": "code",
   "execution_count": 83,
   "metadata": {
    "scrolled": false
   },
   "outputs": [],
   "source": [
    "# for i, j in enumerate(adjacency_list):\n",
    "#     print(i+1, j)"
   ]
  },
  {
   "cell_type": "code",
   "execution_count": 84,
   "metadata": {
    "scrolled": true
   },
   "outputs": [
    {
     "name": "stdout",
     "output_type": "stream",
     "text": [
      "CPU times: user 321 ms, sys: 7.29 ms, total: 328 ms\n",
      "Wall time: 323 ms\n"
     ]
    }
   ],
   "source": [
    "%%time\n",
    "# replace node names with finishing times\n",
    "# generate a new adjacency list\n",
    "\n",
    "new_adjacency_list_indexed = []\n",
    "# index the adjacency list\n",
    "for i in range(N):\n",
    "    new_adjacency_list_indexed.append(np.array([i]))\n",
    "\n",
    "# replace indices' names\n",
    "for j in range(N):\n",
    "    new_adjacency_list_indexed[ node_orders[j]-1 ] = adjacency_list_indexed[j]\n",
    "\n",
    "new_adjacency_list = []\n",
    "# remove indices\n",
    "for i in range(N):\n",
    "    new_adjacency_list.append(np.delete(new_adjacency_list_indexed[i], 0, axis=0))\n",
    "    \n",
    "# replace indices' adjacencies' names\n",
    "for k in range(N):\n",
    "    for l in np.arange(len(new_adjacency_list[k])):\n",
    "        new_adjacency_list[k][l] = node_orders[ new_adjacency_list[k][l]-1 ]\n",
    "    \n",
    "# print(new_adjacency_list)"
   ]
  },
  {
   "cell_type": "code",
   "execution_count": 85,
   "metadata": {},
   "outputs": [],
   "source": [
    "# for i, j in enumerate(new_adjacency_list):\n",
    "#     print(i+1, j)"
   ]
  },
  {
   "cell_type": "code",
   "execution_count": 86,
   "metadata": {},
   "outputs": [
    {
     "name": "stdout",
     "output_type": "stream",
     "text": [
      "CPU times: user 41.2 ms, sys: 1.56 ms, total: 42.8 ms\n",
      "Wall time: 41.7 ms\n"
     ]
    }
   ],
   "source": [
    "%%time\n",
    "# second pass\n",
    "# start with the node with the highest finishing times\n",
    "dfs_loop(new_adjacency_list)"
   ]
  },
  {
   "cell_type": "code",
   "execution_count": 87,
   "metadata": {},
   "outputs": [],
   "source": [
    "# node_leaders"
   ]
  },
  {
   "cell_type": "code",
   "execution_count": 88,
   "metadata": {},
   "outputs": [
    {
     "data": {
      "text/plain": [
       "Counter({12791: 3768,\n",
       "         12772: 874,\n",
       "         12780: 1193,\n",
       "         12800: 5066,\n",
       "         12798: 1791,\n",
       "         12621: 18,\n",
       "         12716: 51,\n",
       "         12577: 11,\n",
       "         11131: 7,\n",
       "         3876: 8,\n",
       "         9532: 8,\n",
       "         8238: 5})"
      ]
     },
     "execution_count": 88,
     "metadata": {},
     "output_type": "execute_result"
    }
   ],
   "source": [
    "counter=collections.Counter(node_leaders)\n",
    "counter"
   ]
  },
  {
   "cell_type": "code",
   "execution_count": 89,
   "metadata": {},
   "outputs": [
    {
     "data": {
      "text/plain": [
       "[5066, 3768, 1791, 1193, 874, 51]"
      ]
     },
     "execution_count": 89,
     "metadata": {},
     "output_type": "execute_result"
    }
   ],
   "source": [
    "count = list(counter.values())\n",
    "count.sort(reverse=True)\n",
    "count[0:6]"
   ]
  },
  {
   "cell_type": "code",
   "execution_count": null,
   "metadata": {},
   "outputs": [],
   "source": []
  }
 ],
 "metadata": {
  "kernelspec": {
   "display_name": "Python 3",
   "language": "python",
   "name": "python3"
  },
  "language_info": {
   "codemirror_mode": {
    "name": "ipython",
    "version": 3
   },
   "file_extension": ".py",
   "mimetype": "text/x-python",
   "name": "python",
   "nbconvert_exporter": "python",
   "pygments_lexer": "ipython3",
   "version": "3.6.6"
  }
 },
 "nbformat": 4,
 "nbformat_minor": 2
}
